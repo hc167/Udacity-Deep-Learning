{
 "cells": [
  {
   "cell_type": "markdown",
   "metadata": {
    "collapsed": true
   },
   "source": [
    "# Image Classification\n",
    "In this project, you'll classify images from the [CIFAR-10 dataset](https://www.cs.toronto.edu/~kriz/cifar.html).  The dataset consists of airplanes, dogs, cats, and other objects. You'll preprocess the images, then train a convolutional neural network on all the samples. The images need to be normalized and the labels need to be one-hot encoded.  You'll get to apply what you learned and build a convolutional, max pooling, dropout, and fully connected layers.  At the end, you'll get to see your neural network's predictions on the sample images.\n",
    "## Get the Data\n",
    "Run the following cell to download the [CIFAR-10 dataset for python](https://www.cs.toronto.edu/~kriz/cifar-10-python.tar.gz)."
   ]
  },
  {
   "cell_type": "code",
   "execution_count": 1,
   "metadata": {},
   "outputs": [
    {
     "name": "stderr",
     "output_type": "stream",
     "text": [
      "CIFAR-10 Dataset: 171MB [01:19, 2.14MB/s]                              \n"
     ]
    },
    {
     "name": "stdout",
     "output_type": "stream",
     "text": [
      "All files found!\n"
     ]
    }
   ],
   "source": [
    "\"\"\"\n",
    "DON'T MODIFY ANYTHING IN THIS CELL THAT IS BELOW THIS LINE\n",
    "\"\"\"\n",
    "from urllib.request import urlretrieve\n",
    "from os.path import isfile, isdir\n",
    "from tqdm import tqdm\n",
    "import problem_unittests as tests\n",
    "import tarfile\n",
    "\n",
    "cifar10_dataset_folder_path = 'cifar-10-batches-py'\n",
    "\n",
    "# Use Floyd's cifar-10 dataset if present\n",
    "floyd_cifar10_location = '/input/cifar-10/python.tar.gz'\n",
    "if isfile(floyd_cifar10_location):\n",
    "    tar_gz_path = floyd_cifar10_location\n",
    "else:\n",
    "    tar_gz_path = 'cifar-10-python.tar.gz'\n",
    "\n",
    "class DLProgress(tqdm):\n",
    "    last_block = 0\n",
    "\n",
    "    def hook(self, block_num=1, block_size=1, total_size=None):\n",
    "        self.total = total_size\n",
    "        self.update((block_num - self.last_block) * block_size)\n",
    "        self.last_block = block_num\n",
    "\n",
    "if not isfile(tar_gz_path):\n",
    "    with DLProgress(unit='B', unit_scale=True, miniters=1, desc='CIFAR-10 Dataset') as pbar:\n",
    "        urlretrieve(\n",
    "            'https://www.cs.toronto.edu/~kriz/cifar-10-python.tar.gz',\n",
    "            tar_gz_path,\n",
    "            pbar.hook)\n",
    "\n",
    "if not isdir(cifar10_dataset_folder_path):\n",
    "    with tarfile.open(tar_gz_path) as tar:\n",
    "        tar.extractall()\n",
    "        tar.close()\n",
    "\n",
    "\n",
    "tests.test_folder_path(cifar10_dataset_folder_path)"
   ]
  },
  {
   "cell_type": "markdown",
   "metadata": {},
   "source": [
    "## Explore the Data\n",
    "The dataset is broken into batches to prevent your machine from running out of memory.  The CIFAR-10 dataset consists of 5 batches, named `data_batch_1`, `data_batch_2`, etc.. Each batch contains the labels and images that are one of the following:\n",
    "* airplane\n",
    "* automobile\n",
    "* bird\n",
    "* cat\n",
    "* deer\n",
    "* dog\n",
    "* frog\n",
    "* horse\n",
    "* ship\n",
    "* truck\n",
    "\n",
    "Understanding a dataset is part of making predictions on the data.  Play around with the code cell below by changing the `batch_id` and `sample_id`. The `batch_id` is the id for a batch (1-5). The `sample_id` is the id for a image and label pair in the batch.\n",
    "\n",
    "Ask yourself \"What are all possible labels?\", \"What is the range of values for the image data?\", \"Are the labels in order or random?\".  Answers to questions like these will help you preprocess the data and end up with better predictions."
   ]
  },
  {
   "cell_type": "code",
   "execution_count": 2,
   "metadata": {},
   "outputs": [
    {
     "name": "stdout",
     "output_type": "stream",
     "text": [
      "\n",
      "Stats of batch 2:\n",
      "Samples: 10000\n",
      "Label Counts: {0: 984, 1: 1007, 2: 1010, 3: 995, 4: 1010, 5: 988, 6: 1008, 7: 1026, 8: 987, 9: 985}\n",
      "First 20 Labels: [1, 6, 6, 8, 8, 3, 4, 6, 0, 6, 0, 3, 6, 6, 5, 4, 8, 3, 2, 6]\n",
      "\n",
      "Example of Image 4:\n",
      "Image - Min Value: 0 Max Value: 255\n",
      "Image - Shape: (32, 32, 3)\n",
      "Label - Label Id: 8 Name: ship\n"
     ]
    },
    {
     "data": {
      "image/png": "[encoded data removed]",
      "text/plain": [
       "<matplotlib.figure.Figure at 0x113d59a20>"
      ]
     },
     "metadata": {
      "image/png": {
       "height": 250,
       "width": 253
      }
     },
     "output_type": "display_data"
    }
   ],
   "source": [
    "%matplotlib inline\n",
    "%config InlineBackend.figure_format = 'retina'\n",
    "\n",
    "import helper\n",
    "import numpy as np\n",
    "\n",
    "# Explore the dataset\n",
    "batch_id = 2\n",
    "sample_id = 4\n",
    "helper.display_stats(cifar10_dataset_folder_path, batch_id, sample_id)"
   ]
  },
  {
   "cell_type": "markdown",
   "metadata": {},
   "source": [
    "## Implement Preprocess Functions\n",
    "### Normalize\n",
    "In the cell below, implement the `normalize` function to take in image data, `x`, and return it as a normalized Numpy array. The values should be in the range of 0 to 1, inclusive.  The return object should be the same shape as `x`."
   ]
  },
  {
   "cell_type": "code",
   "execution_count": 3,
   "metadata": {},
   "outputs": [
    {
     "name": "stdout",
     "output_type": "stream",
     "text": [
      "Tests Passed\n"
     ]
    }
   ],
   "source": [
    "def normalize(x):\n",
    "    \"\"\"\n",
    "    Normalize a list of sample image data in the range of 0 to 1\n",
    "    : x: List of image data.  The image shape is (32, 32, 3)\n",
    "    : return: Numpy array of normalize data\n",
    "    \"\"\"\n",
    "    _min = np.min(x)\n",
    "    _max = np.max(x)\n",
    "    \n",
    "    return (x - _min) / (_max - _min)\n",
    "\n",
    "\n",
    "\"\"\"\n",
    "DON'T MODIFY ANYTHING IN THIS CELL THAT IS BELOW THIS LINE\n",
    "\"\"\"\n",
    "tests.test_normalize(normalize)"
   ]
  },
  {
   "cell_type": "markdown",
   "metadata": {},
   "source": [
    "### One-hot encode\n",
    "Just like the previous code cell, you'll be implementing a function for preprocessing.  This time, you'll implement the `one_hot_encode` function. The input, `x`, are a list of labels.  Implement the function to return the list of labels as One-Hot encoded Numpy array.  The possible values for labels are 0 to 9. The one-hot encoding function should return the same encoding for each value between each call to `one_hot_encode`.  Make sure to save the map of encodings outside the function.\n",
    "\n",
    "Hint: Don't reinvent the wheel."
   ]
  },
  {
   "cell_type": "code",
   "execution_count": 4,
   "metadata": {},
   "outputs": [
    {
     "name": "stdout",
     "output_type": "stream",
     "text": [
      "Tests Passed\n"
     ]
    }
   ],
   "source": [
    "def one_hot_encode(x):\n",
    "    \"\"\"\n",
    "    One hot encode a list of sample labels. Return a one-hot encoded vector for each label.\n",
    "    : x: List of sample Labels\n",
    "    : return: Numpy array of one-hot encoded labels\n",
    "    \"\"\"\n",
    "    return np.eye(10)[x]\n",
    "\n",
    "\n",
    "\"\"\"\n",
    "DON'T MODIFY ANYTHING IN THIS CELL THAT IS BELOW THIS LINE\n",
    "\"\"\"\n",
    "tests.test_one_hot_encode(one_hot_encode)"
   ]
  },
  {
   "cell_type": "markdown",
   "metadata": {},
   "source": [
    "### Randomize Data\n",
    "As you saw from exploring the data above, the order of the samples are randomized.  It doesn't hurt to randomize it again, but you don't need to for this dataset."
   ]
  },
  {
   "cell_type": "markdown",
   "metadata": {},
   "source": [
    "## Preprocess all the data and save it\n",
    "Running the code cell below will preprocess all the CIFAR-10 data and save it to file. The code below also uses 10% of the training data for validation."
   ]
  },
  {
   "cell_type": "code",
   "execution_count": 5,
   "metadata": {
    "collapsed": true
   },
   "outputs": [],
   "source": [
    "\"\"\"\n",
    "DON'T MODIFY ANYTHING IN THIS CELL\n",
    "\"\"\"\n",
    "# Preprocess Training, Validation, and Testing Data\n",
    "helper.preprocess_and_save_data(cifar10_dataset_folder_path, normalize, one_hot_encode)"
   ]
  },
  {
   "cell_type": "markdown",
   "metadata": {},
   "source": [
    "# Check Point\n",
    "This is your first checkpoint.  If you ever decide to come back to this notebook or have to restart the notebook, you can start from here.  The preprocessed data has been saved to disk."
   ]
  },
  {
   "cell_type": "code",
   "execution_count": 6,
   "metadata": {
    "collapsed": true
   },
   "outputs": [],
   "source": [
    "\"\"\"\n",
    "DON'T MODIFY ANYTHING IN THIS CELL\n",
    "\"\"\"\n",
    "import pickle\n",
    "import problem_unittests as tests\n",
    "import helper\n",
    "\n",
    "# Load the Preprocessed Validation data\n",
    "valid_features, valid_labels = pickle.load(open('preprocess_validation.p', mode='rb'))"
   ]
  },
  {
   "cell_type": "markdown",
   "metadata": {},
   "source": [
    "## Build the network\n",
    "For the neural network, you'll build each layer into a function.  Most of the code you've seen has been outside of functions. To test your code more thoroughly, we require that you put each layer in a function.  This allows us to give you better feedback and test for simple mistakes using our unittests before you submit your project.\n",
    "\n",
    ">**Note:** If you're finding it hard to dedicate enough time for this course each week, we've provided a small shortcut to this part of the project. In the next couple of problems, you'll have the option to use classes from the [TensorFlow Layers](https://www.tensorflow.org/api_docs/python/tf/layers) or [TensorFlow Layers (contrib)](https://www.tensorflow.org/api_guides/python/contrib.layers) packages to build each layer, except the layers you build in the \"Convolutional and Max Pooling Layer\" section.  TF Layers is similar to Keras's and TFLearn's abstraction to layers, so it's easy to pickup.\n",
    "\n",
    ">However, if you would like to get the most out of this course, try to solve all the problems _without_ using anything from the TF Layers packages. You **can** still use classes from other packages that happen to have the same name as ones you find in TF Layers! For example, instead of using the TF Layers version of the `conv2d` class, [tf.layers.conv2d](https://www.tensorflow.org/api_docs/python/tf/layers/conv2d), you would want to use the TF Neural Network version of `conv2d`, [tf.nn.conv2d](https://www.tensorflow.org/api_docs/python/tf/nn/conv2d). \n",
    "\n",
    "Let's begin!\n",
    "\n",
    "### Input\n",
    "The neural network needs to read the image data, one-hot encoded labels, and dropout keep probability. Implement the following functions\n",
    "* Implement `neural_net_image_input`\n",
    " * Return a [TF Placeholder](https://www.tensorflow.org/api_docs/python/tf/placeholder)\n",
    " * Set the shape using `image_shape` with batch size set to `None`.\n",
    " * Name the TensorFlow placeholder \"x\" using the TensorFlow `name` parameter in the [TF Placeholder](https://www.tensorflow.org/api_docs/python/tf/placeholder).\n",
    "* Implement `neural_net_label_input`\n",
    " * Return a [TF Placeholder](https://www.tensorflow.org/api_docs/python/tf/placeholder)\n",
    " * Set the shape using `n_classes` with batch size set to `None`.\n",
    " * Name the TensorFlow placeholder \"y\" using the TensorFlow `name` parameter in the [TF Placeholder](https://www.tensorflow.org/api_docs/python/tf/placeholder).\n",
    "* Implement `neural_net_keep_prob_input`\n",
    " * Return a [TF Placeholder](https://www.tensorflow.org/api_docs/python/tf/placeholder) for dropout keep probability.\n",
    " * Name the TensorFlow placeholder \"keep_prob\" using the TensorFlow `name` parameter in the [TF Placeholder](https://www.tensorflow.org/api_docs/python/tf/placeholder).\n",
    "\n",
    "These names will be used at the end of the project to load your saved model.\n",
    "\n",
    "Note: `None` for shapes in TensorFlow allow for a dynamic size."
   ]
  },
  {
   "cell_type": "code",
   "execution_count": 7,
   "metadata": {},
   "outputs": [
    {
     "name": "stdout",
     "output_type": "stream",
     "text": [
      "Image Input Tests Passed.\n",
      "Label Input Tests Passed.\n",
      "Keep Prob Tests Passed.\n"
     ]
    }
   ],
   "source": [
    "import tensorflow as tf\n",
    "\n",
    "def neural_net_image_input(image_shape):\n",
    "    \"\"\"\n",
    "    Return a Tensor for a batch of image input\n",
    "    : image_shape: Shape of the images\n",
    "    : return: Tensor for image input.\n",
    "    \"\"\"\n",
    "    return tf.placeholder(tf.float32, [None, *image_shape], name = 'x')\n",
    "\n",
    "\n",
    "def neural_net_label_input(n_classes):\n",
    "    \"\"\"\n",
    "    Return a Tensor for a batch of label input\n",
    "    : n_classes: Number of classes\n",
    "    : return: Tensor for label input.\n",
    "    \"\"\"\n",
    "    return tf.placeholder(tf.float32, [None, n_classes], name = 'y')\n",
    "\n",
    "\n",
    "def neural_net_keep_prob_input():\n",
    "    \"\"\"\n",
    "    Return a Tensor for keep probability\n",
    "    : return: Tensor for keep probability.\n",
    "    \"\"\"\n",
    "    return tf.placeholder(tf.float32, name = 'keep_prob')\n",
    "\n",
    "\n",
    "\"\"\"\n",
    "DON'T MODIFY ANYTHING IN THIS CELL THAT IS BELOW THIS LINE\n",
    "\"\"\"\n",
    "tf.reset_default_graph()\n",
    "tests.test_nn_image_inputs(neural_net_image_input)\n",
    "tests.test_nn_label_inputs(neural_net_label_input)\n",
    "tests.test_nn_keep_prob_inputs(neural_net_keep_prob_input)"
   ]
  },
  {
   "cell_type": "markdown",
   "metadata": {},
   "source": [
    "### Convolution and Max Pooling Layer\n",
    "Convolution layers have a lot of success with images. For this code cell, you should implement the function `conv2d_maxpool` to apply convolution then max pooling:\n",
    "* Create the weight and bias using `conv_ksize`, `conv_num_outputs` and the shape of `x_tensor`.\n",
    "* Apply a convolution to `x_tensor` using weight and `conv_strides`.\n",
    " * We recommend you use same padding, but you're welcome to use any padding.\n",
    "* Add bias\n",
    "* Add a nonlinear activation to the convolution.\n",
    "* Apply Max Pooling using `pool_ksize` and `pool_strides`.\n",
    " * We recommend you use same padding, but you're welcome to use any padding.\n",
    "\n",
    "**Note:** You **can't** use [TensorFlow Layers](https://www.tensorflow.org/api_docs/python/tf/layers) or [TensorFlow Layers (contrib)](https://www.tensorflow.org/api_guides/python/contrib.layers) for **this** layer, but you can still use TensorFlow's [Neural Network](https://www.tensorflow.org/api_docs/python/tf/nn) package. You may still use the shortcut option for all the **other** layers."
   ]
  },
  {
   "cell_type": "code",
   "execution_count": 8,
   "metadata": {},
   "outputs": [
    {
     "name": "stdout",
     "output_type": "stream",
     "text": [
      "Tests Passed\n"
     ]
    }
   ],
   "source": [
    "def conv2d_maxpool(x_tensor, conv_num_outputs, conv_ksize, conv_strides, pool_ksize, pool_strides):\n",
    "    \"\"\"\n",
    "    Apply convolution then max pooling to x_tensor\n",
    "    :param x_tensor: TensorFlow Tensor\n",
    "    :param conv_num_outputs: Number of outputs for the convolutional layer\n",
    "    :param conv_ksize: kernal size 2-D Tuple for the convolutional layer\n",
    "    :param conv_strides: Stride 2-D Tuple for convolution\n",
    "    :param pool_ksize: kernal size 2-D Tuple for pool\n",
    "    :param pool_strides: Stride 2-D Tuple for pool\n",
    "    : return: A tensor that represents convolution and max pooling of x_tensor\n",
    "    \"\"\"\n",
    "    depth_in = int(x_tensor.shape[3])\n",
    "    depth_out = conv_num_outputs\n",
    "    w_shape = [*conv_ksize, depth_in, depth_out]\n",
    "#    weight = tf.Variable(tf.truncated_normal(w_shape))\n",
    "    weight = tf.Variable(tf.random_normal(w_shape, stddev=0.1))\n",
    "    \n",
    "    bias = tf.Variable(tf.zeros(depth_out))\n",
    "    \n",
    "    conv_strides = [1, *conv_strides, 1]\n",
    "    x = tf.nn.conv2d(x_tensor, weight, strides=conv_strides, padding='SAME')\n",
    "    \n",
    "    x = tf.nn.bias_add(x, bias)\n",
    "    x = tf.nn.relu(x)\n",
    "    \n",
    "    pool_ksize = [1, *pool_ksize, 1]\n",
    "    pool_strides = [1, *pool_strides, 1]\n",
    "    return tf.nn.max_pool(x, pool_ksize, pool_strides, padding='SAME')\n",
    "          \n",
    "\n",
    "\"\"\"\n",
    "DON'T MODIFY ANYTHING IN THIS CELL THAT IS BELOW THIS LINE\n",
    "\"\"\"\n",
    "tests.test_con_pool(conv2d_maxpool)"
   ]
  },
  {
   "cell_type": "markdown",
   "metadata": {},
   "source": [
    "### Flatten Layer\n",
    "Implement the `flatten` function to change the dimension of `x_tensor` from a 4-D tensor to a 2-D tensor.  The output should be the shape (*Batch Size*, *Flattened Image Size*). Shortcut option: you can use classes from the [TensorFlow Layers](https://www.tensorflow.org/api_docs/python/tf/layers) or [TensorFlow Layers (contrib)](https://www.tensorflow.org/api_guides/python/contrib.layers) packages for this layer. For more of a challenge, only use other TensorFlow packages."
   ]
  },
  {
   "cell_type": "code",
   "execution_count": 9,
   "metadata": {},
   "outputs": [
    {
     "name": "stdout",
     "output_type": "stream",
     "text": [
      "Tests Passed\n"
     ]
    }
   ],
   "source": [
    "def flatten(x_tensor):\n",
    "    \"\"\"\n",
    "    Flatten x_tensor to (Batch Size, Flattened Image Size)\n",
    "    : x_tensor: A tensor of size (Batch Size, ...), where ... are the image dimensions.\n",
    "    : return: A tensor of size (Batch Size, Flattened Image Size).\n",
    "    \"\"\"\n",
    "    return tf.contrib.layers.flatten(x_tensor)\n",
    "\n",
    "\n",
    "\"\"\"\n",
    "DON'T MODIFY ANYTHING IN THIS CELL THAT IS BELOW THIS LINE\n",
    "\"\"\"\n",
    "tests.test_flatten(flatten)"
   ]
  },
  {
   "cell_type": "markdown",
   "metadata": {},
   "source": [
    "### Fully-Connected Layer\n",
    "Implement the `fully_conn` function to apply a fully connected layer to `x_tensor` with the shape (*Batch Size*, *num_outputs*). Shortcut option: you can use classes from the [TensorFlow Layers](https://www.tensorflow.org/api_docs/python/tf/layers) or [TensorFlow Layers (contrib)](https://www.tensorflow.org/api_guides/python/contrib.layers) packages for this layer. For more of a challenge, only use other TensorFlow packages."
   ]
  },
  {
   "cell_type": "code",
   "execution_count": 10,
   "metadata": {},
   "outputs": [
    {
     "name": "stdout",
     "output_type": "stream",
     "text": [
      "Tests Passed\n"
     ]
    }
   ],
   "source": [
    "def fully_conn(x_tensor, num_outputs):\n",
    "    \"\"\"\n",
    "    Apply a fully connected layer to x_tensor using weight and bias\n",
    "    : x_tensor: A 2-D tensor where the first dimension is batch size.\n",
    "    : num_outputs: The number of output that the new tensor should be.\n",
    "    : return: A 2-D tensor where the second dimension is num_outputs.\n",
    "    \"\"\"\n",
    "    return tf.contrib.layers.fully_connected(x_tensor, num_outputs)\n",
    "\n",
    "\n",
    "\"\"\"\n",
    "DON'T MODIFY ANYTHING IN THIS CELL THAT IS BELOW THIS LINE\n",
    "\"\"\"\n",
    "tests.test_fully_conn(fully_conn)"
   ]
  },
  {
   "cell_type": "markdown",
   "metadata": {},
   "source": [
    "### Output Layer\n",
    "Implement the `output` function to apply a fully connected layer to `x_tensor` with the shape (*Batch Size*, *num_outputs*). Shortcut option: you can use classes from the [TensorFlow Layers](https://www.tensorflow.org/api_docs/python/tf/layers) or [TensorFlow Layers (contrib)](https://www.tensorflow.org/api_guides/python/contrib.layers) packages for this layer. For more of a challenge, only use other TensorFlow packages.\n",
    "\n",
    "**Note:** Activation, softmax, or cross entropy should **not** be applied to this."
   ]
  },
  {
   "cell_type": "code",
   "execution_count": 11,
   "metadata": {},
   "outputs": [
    {
     "name": "stdout",
     "output_type": "stream",
     "text": [
      "Tests Passed\n"
     ]
    }
   ],
   "source": [
    "def output(x_tensor, num_outputs):\n",
    "    \"\"\"\n",
    "    Apply a output layer to x_tensor using weight and bias\n",
    "    : x_tensor: A 2-D tensor where the first dimension is batch size.\n",
    "    : num_outputs: The number of output that the new tensor should be.\n",
    "    : return: A 2-D tensor where the second dimension is num_outputs.\n",
    "    \"\"\"\n",
    "    return tf.contrib.layers.fully_connected(x_tensor, num_outputs, activation_fn=None)\n",
    "\n",
    "\"\"\"\n",
    "DON'T MODIFY ANYTHING IN THIS CELL THAT IS BELOW THIS LINE\n",
    "\"\"\"\n",
    "tests.test_output(output)"
   ]
  },
  {
   "cell_type": "markdown",
   "metadata": {},
   "source": [
    "### Create Convolutional Model\n",
    "Implement the function `conv_net` to create a convolutional neural network model. The function takes in a batch of images, `x`, and outputs logits.  Use the layers you created above to create this model:\n",
    "\n",
    "* Apply 1, 2, or 3 Convolution and Max Pool layers\n",
    "* Apply a Flatten Layer\n",
    "* Apply 1, 2, or 3 Fully Connected Layers\n",
    "* Apply an Output Layer\n",
    "* Return the output\n",
    "* Apply [TensorFlow's Dropout](https://www.tensorflow.org/api_docs/python/tf/nn/dropout) to one or more layers in the model using `keep_prob`. "
   ]
  },
  {
   "cell_type": "code",
   "execution_count": 12,
   "metadata": {},
   "outputs": [
    {
     "name": "stdout",
     "output_type": "stream",
     "text": [
      "Neural Network Built!\n"
     ]
    }
   ],
   "source": [
    "def conv_net(x, keep_prob):\n",
    "    \"\"\"\n",
    "    Create a convolutional neural network model\n",
    "    : x: Placeholder tensor that holds image data.\n",
    "    : keep_prob: Placeholder tensor that hold dropout keep probability.\n",
    "    : return: Tensor that represents logits\n",
    "    \"\"\"\n",
    "    # TODO: Apply 1, 2, or 3 Convolution and Max Pool layers\n",
    "    #    Play around with different number of outputs, kernel size and stride\n",
    "    # Function Definition from Above:\n",
    "    #    conv2d_maxpool(x_tensor, conv_num_outputs, conv_ksize, conv_strides, pool_ksize, pool_strides)\n",
    "        \n",
    "    x = conv2d_maxpool(x, 32, (3, 3), (1, 1), (2, 2), (2, 2))\n",
    "    x = conv2d_maxpool(x, 32, (3, 3), (2, 2), (2, 2), (2, 2))\n",
    "    x = conv2d_maxpool(x, 64, (3, 3), (1, 1), (2, 2), (2, 2))\n",
    "#    x = tf.nn.dropout(x, keep_prob)\n",
    "\n",
    "    # TODO: Apply a Flatten Layer\n",
    "    # Function Definition from Above:\n",
    "    #   flatten(x_tensor)\n",
    "    x = flatten(x)    \n",
    "\n",
    "    # TODO: Apply 1, 2, or 3 Fully Connected Layers\n",
    "    #    Play around with different number of outputs\n",
    "    # Function Definition from Above:\n",
    "    #   fully_conn(x_tensor, num_outputs)\n",
    "    x = fully_conn(x, 512)\n",
    "    x = tf.nn.dropout(x, keep_prob)\n",
    "    x = fully_conn(x, 128)\n",
    "    x = tf.nn.dropout(x, keep_prob)\n",
    "    \n",
    "    \n",
    "    # TODO: Apply an Output Layer\n",
    "    #    Set this to the number of classes\n",
    "    # Function Definition from Above:\n",
    "    #   output(x_tensor, num_outputs)\n",
    "    out = output(x, 10)\n",
    "    \n",
    "    \n",
    "    # TODO: return output\n",
    "    return out\n",
    "\n",
    "\n",
    "\"\"\"\n",
    "DON'T MODIFY ANYTHING IN THIS CELL THAT IS BELOW THIS LINE\n",
    "\"\"\"\n",
    "\n",
    "##############################\n",
    "## Build the Neural Network ##\n",
    "##############################\n",
    "\n",
    "# Remove previous weights, bias, inputs, etc..\n",
    "tf.reset_default_graph()\n",
    "\n",
    "# Inputs\n",
    "x = neural_net_image_input((32, 32, 3))\n",
    "y = neural_net_label_input(10)\n",
    "keep_prob = neural_net_keep_prob_input()\n",
    "\n",
    "# Model\n",
    "logits = conv_net(x, keep_prob)\n",
    "\n",
    "# Name logits Tensor, so that is can be loaded from disk after training\n",
    "logits = tf.identity(logits, name='logits')\n",
    "\n",
    "# Loss and Optimizer\n",
    "cost = tf.reduce_mean(tf.nn.softmax_cross_entropy_with_logits(logits=logits, labels=y))\n",
    "optimizer = tf.train.AdamOptimizer().minimize(cost)\n",
    "\n",
    "# Accuracy\n",
    "correct_pred = tf.equal(tf.argmax(logits, 1), tf.argmax(y, 1))\n",
    "accuracy = tf.reduce_mean(tf.cast(correct_pred, tf.float32), name='accuracy')\n",
    "\n",
    "tests.test_conv_net(conv_net)"
   ]
  },
  {
   "cell_type": "markdown",
   "metadata": {},
   "source": [
    "## Train the Neural Network\n",
    "### Single Optimization\n",
    "Implement the function `train_neural_network` to do a single optimization.  The optimization should use `optimizer` to optimize in `session` with a `feed_dict` of the following:\n",
    "* `x` for image input\n",
    "* `y` for labels\n",
    "* `keep_prob` for keep probability for dropout\n",
    "\n",
    "This function will be called for each batch, so `tf.global_variables_initializer()` has already been called.\n",
    "\n",
    "Note: Nothing needs to be returned. This function is only optimizing the neural network."
   ]
  },
  {
   "cell_type": "code",
   "execution_count": 13,
   "metadata": {},
   "outputs": [
    {
     "name": "stdout",
     "output_type": "stream",
     "text": [
      "Tests Passed\n"
     ]
    }
   ],
   "source": [
    "def train_neural_network(session, optimizer, keep_probability, feature_batch, label_batch):\n",
    "    \"\"\"\n",
    "    Optimize the session on a batch of images and labels\n",
    "    : session: Current TensorFlow session\n",
    "    : optimizer: TensorFlow optimizer function\n",
    "    : keep_probability: keep probability\n",
    "    : feature_batch: Batch of Numpy image data\n",
    "    : label_batch: Batch of Numpy label data\n",
    "    \"\"\"                \n",
    "    session.run(optimizer, feed_dict={\n",
    "        x: feature_batch,\n",
    "        y: label_batch,\n",
    "        keep_prob: keep_probability})\n",
    "\n",
    "\n",
    "\"\"\"\n",
    "DON'T MODIFY ANYTHING IN THIS CELL THAT IS BELOW THIS LINE\n",
    "\"\"\"\n",
    "tests.test_train_nn(train_neural_network)"
   ]
  },
  {
   "cell_type": "markdown",
   "metadata": {},
   "source": [
    "### Show Stats\n",
    "Implement the function `print_stats` to print loss and validation accuracy.  Use the global variables `valid_features` and `valid_labels` to calculate validation accuracy.  Use a keep probability of `1.0` to calculate the loss and validation accuracy."
   ]
  },
  {
   "cell_type": "code",
   "execution_count": 14,
   "metadata": {
    "collapsed": true
   },
   "outputs": [],
   "source": [
    "def print_stats(session, feature_batch, label_batch, cost, accuracy):\n",
    "    \"\"\"\n",
    "    Print information about loss and validation accuracy\n",
    "    : session: Current TensorFlow session\n",
    "    : feature_batch: Batch of Numpy image data\n",
    "    : label_batch: Batch of Numpy label data\n",
    "    : cost: TensorFlow cost function\n",
    "    : accuracy: TensorFlow accuracy function\n",
    "    \"\"\"\n",
    "    \n",
    "    l = session.run(cost, feed_dict={\n",
    "        x: feature_batch,\n",
    "        y: label_batch,\n",
    "        keep_prob: 1\n",
    "    })\n",
    "            \n",
    "    a = session.run(accuracy, feed_dict={\n",
    "        x: valid_features, \n",
    "        y: valid_labels,\n",
    "        keep_prob: 1\n",
    "    })\n",
    "     \n",
    "    print('Loss: {:5.5f}  Validation Accuracy: {:5.5f}'.format(l, a))"
   ]
  },
  {
   "cell_type": "markdown",
   "metadata": {},
   "source": [
    "### Hyperparameters\n",
    "Tune the following parameters:\n",
    "* Set `epochs` to the number of iterations until the network stops learning or start overfitting\n",
    "* Set `batch_size` to the highest number that your machine has memory for.  Most people set them to common sizes of memory:\n",
    " * 64\n",
    " * 128\n",
    " * 256\n",
    " * ...\n",
    "* Set `keep_probability` to the probability of keeping a node using dropout"
   ]
  },
  {
   "cell_type": "code",
   "execution_count": 15,
   "metadata": {
    "collapsed": true
   },
   "outputs": [],
   "source": [
    "# TODO: Tune Parameters\n",
    "epochs = 50\n",
    "batch_size = 256\n",
    "keep_probability = .6"
   ]
  },
  {
   "cell_type": "markdown",
   "metadata": {},
   "source": [
    "### Train on a Single CIFAR-10 Batch\n",
    "Instead of training the neural network on all the CIFAR-10 batches of data, let's use a single batch. This should save time while you iterate on the model to get a better accuracy.  Once the final validation accuracy is 50% or greater, run the model on all the data in the next section."
   ]
  },
  {
   "cell_type": "code",
   "execution_count": 16,
   "metadata": {},
   "outputs": [
    {
     "name": "stdout",
     "output_type": "stream",
     "text": [
      "Checking the Training on a Single Batch...\n",
      "Epoch  1, CIFAR-10 Batch 1:  Loss: 2.15061  Validation Accuracy: 0.27200\n",
      "Epoch  2, CIFAR-10 Batch 1:  Loss: 2.02397  Validation Accuracy: 0.34760\n",
      "Epoch  3, CIFAR-10 Batch 1:  Loss: 1.82465  Validation Accuracy: 0.40080\n",
      "Epoch  4, CIFAR-10 Batch 1:  Loss: 1.62279  Validation Accuracy: 0.42920\n",
      "Epoch  5, CIFAR-10 Batch 1:  Loss: 1.48490  Validation Accuracy: 0.44040\n",
      "Epoch  6, CIFAR-10 Batch 1:  Loss: 1.32405  Validation Accuracy: 0.45120\n",
      "Epoch  7, CIFAR-10 Batch 1:  Loss: 1.14177  Validation Accuracy: 0.47560\n",
      "Epoch  8, CIFAR-10 Batch 1:  Loss: 1.02922  Validation Accuracy: 0.48140\n",
      "Epoch  9, CIFAR-10 Batch 1:  Loss: 0.91588  Validation Accuracy: 0.49980\n",
      "Epoch 10, CIFAR-10 Batch 1:  Loss: 0.81385  Validation Accuracy: 0.50580\n",
      "Epoch 11, CIFAR-10 Batch 1:  Loss: 0.73131  Validation Accuracy: 0.51640\n",
      "Epoch 12, CIFAR-10 Batch 1:  Loss: 0.67057  Validation Accuracy: 0.51440\n",
      "Epoch 13, CIFAR-10 Batch 1:  Loss: 0.61974  Validation Accuracy: 0.49980\n",
      "Epoch 14, CIFAR-10 Batch 1:  Loss: 0.53529  Validation Accuracy: 0.53180\n",
      "Epoch 15, CIFAR-10 Batch 1:  Loss: 0.51413  Validation Accuracy: 0.53520\n",
      "Epoch 16, CIFAR-10 Batch 1:  Loss: 0.47905  Validation Accuracy: 0.53660\n",
      "Epoch 17, CIFAR-10 Batch 1:  Loss: 0.46193  Validation Accuracy: 0.52380\n",
      "Epoch 18, CIFAR-10 Batch 1:  Loss: 0.41395  Validation Accuracy: 0.54860\n",
      "Epoch 19, CIFAR-10 Batch 1:  Loss: 0.38523  Validation Accuracy: 0.55040\n",
      "Epoch 20, CIFAR-10 Batch 1:  Loss: 0.33333  Validation Accuracy: 0.54740\n",
      "Epoch 21, CIFAR-10 Batch 1:  Loss: 0.30202  Validation Accuracy: 0.55760\n",
      "Epoch 22, CIFAR-10 Batch 1:  Loss: 0.25566  Validation Accuracy: 0.55300\n",
      "Epoch 23, CIFAR-10 Batch 1:  Loss: 0.24528  Validation Accuracy: 0.55580\n",
      "Epoch 24, CIFAR-10 Batch 1:  Loss: 0.24035  Validation Accuracy: 0.54500\n",
      "Epoch 25, CIFAR-10 Batch 1:  Loss: 0.19376  Validation Accuracy: 0.54880\n",
      "Epoch 26, CIFAR-10 Batch 1:  Loss: 0.21146  Validation Accuracy: 0.54620\n",
      "Epoch 27, CIFAR-10 Batch 1:  Loss: 0.17785  Validation Accuracy: 0.55780\n",
      "Epoch 28, CIFAR-10 Batch 1:  Loss: 0.14539  Validation Accuracy: 0.55580\n",
      "Epoch 29, CIFAR-10 Batch 1:  Loss: 0.13845  Validation Accuracy: 0.54720\n",
      "Epoch 30, CIFAR-10 Batch 1:  Loss: 0.11860  Validation Accuracy: 0.52420\n",
      "Epoch 31, CIFAR-10 Batch 1:  Loss: 0.11200  Validation Accuracy: 0.52820\n",
      "Epoch 32, CIFAR-10 Batch 1:  Loss: 0.11594  Validation Accuracy: 0.51840\n",
      "Epoch 33, CIFAR-10 Batch 1:  Loss: 0.09379  Validation Accuracy: 0.52340\n",
      "Epoch 34, CIFAR-10 Batch 1:  Loss: 0.09426  Validation Accuracy: 0.52720\n",
      "Epoch 35, CIFAR-10 Batch 1:  Loss: 0.08831  Validation Accuracy: 0.54760\n",
      "Epoch 36, CIFAR-10 Batch 1:  Loss: 0.10127  Validation Accuracy: 0.54460\n",
      "Epoch 37, CIFAR-10 Batch 1:  Loss: 0.07312  Validation Accuracy: 0.52620\n",
      "Epoch 38, CIFAR-10 Batch 1:  Loss: 0.04516  Validation Accuracy: 0.55020\n",
      "Epoch 39, CIFAR-10 Batch 1:  Loss: 0.05216  Validation Accuracy: 0.53560\n",
      "Epoch 40, CIFAR-10 Batch 1:  Loss: 0.04994  Validation Accuracy: 0.54280\n",
      "Epoch 41, CIFAR-10 Batch 1:  Loss: 0.06680  Validation Accuracy: 0.52980\n",
      "Epoch 42, CIFAR-10 Batch 1:  Loss: 0.05252  Validation Accuracy: 0.52280\n",
      "Epoch 43, CIFAR-10 Batch 1:  Loss: 0.04841  Validation Accuracy: 0.53280\n",
      "Epoch 44, CIFAR-10 Batch 1:  Loss: 0.03477  Validation Accuracy: 0.51980\n",
      "Epoch 45, CIFAR-10 Batch 1:  Loss: 0.03905  Validation Accuracy: 0.54200\n",
      "Epoch 46, CIFAR-10 Batch 1:  Loss: 0.02633  Validation Accuracy: 0.55060\n",
      "Epoch 47, CIFAR-10 Batch 1:  Loss: 0.04426  Validation Accuracy: 0.53040\n",
      "Epoch 48, CIFAR-10 Batch 1:  Loss: 0.06521  Validation Accuracy: 0.50360\n",
      "Epoch 49, CIFAR-10 Batch 1:  Loss: 0.03210  Validation Accuracy: 0.53660\n",
      "Epoch 50, CIFAR-10 Batch 1:  Loss: 0.01759  Validation Accuracy: 0.54280\n"
     ]
    }
   ],
   "source": [
    "\"\"\"\n",
    "DON'T MODIFY ANYTHING IN THIS CELL\n",
    "\"\"\"\n",
    "print('Checking the Training on a Single Batch...')\n",
    "with tf.Session() as sess:\n",
    "    # Initializing the variables\n",
    "    sess.run(tf.global_variables_initializer())\n",
    "    \n",
    "    # Training cycle\n",
    "    for epoch in range(epochs):\n",
    "        batch_i = 1\n",
    "        for batch_features, batch_labels in helper.load_preprocess_training_batch(batch_i, batch_size):\n",
    "            train_neural_network(sess, optimizer, keep_probability, batch_features, batch_labels)\n",
    "        print('Epoch {:>2}, CIFAR-10 Batch {}:  '.format(epoch + 1, batch_i), end='')\n",
    "        print_stats(sess, batch_features, batch_labels, cost, accuracy)"
   ]
  },
  {
   "cell_type": "markdown",
   "metadata": {},
   "source": [
    "### Fully Train the Model\n",
    "Now that you got a good accuracy with a single CIFAR-10 batch, try it with all five batches."
   ]
  },
  {
   "cell_type": "code",
   "execution_count": 17,
   "metadata": {},
   "outputs": [
    {
     "name": "stdout",
     "output_type": "stream",
     "text": [
      "Training...\n",
      "Epoch  1, CIFAR-10 Batch 1:  Loss: 2.12201  Validation Accuracy: 0.32140\n",
      "Epoch  1, CIFAR-10 Batch 2:  Loss: 1.83877  Validation Accuracy: 0.35760\n",
      "Epoch  1, CIFAR-10 Batch 3:  Loss: 1.55159  Validation Accuracy: 0.35640\n",
      "Epoch  1, CIFAR-10 Batch 4:  Loss: 1.59620  Validation Accuracy: 0.41860\n",
      "Epoch  1, CIFAR-10 Batch 5:  Loss: 1.53219  Validation Accuracy: 0.44900\n",
      "Epoch  2, CIFAR-10 Batch 1:  Loss: 1.65283  Validation Accuracy: 0.46120\n",
      "Epoch  2, CIFAR-10 Batch 2:  Loss: 1.54079  Validation Accuracy: 0.47800\n",
      "Epoch  2, CIFAR-10 Batch 3:  Loss: 1.17077  Validation Accuracy: 0.45800\n",
      "Epoch  2, CIFAR-10 Batch 4:  Loss: 1.26037  Validation Accuracy: 0.49300\n",
      "Epoch  2, CIFAR-10 Batch 5:  Loss: 1.22821  Validation Accuracy: 0.50420\n",
      "Epoch  3, CIFAR-10 Batch 1:  Loss: 1.29969  Validation Accuracy: 0.51400\n",
      "Epoch  3, CIFAR-10 Batch 2:  Loss: 1.25730  Validation Accuracy: 0.52200\n",
      "Epoch  3, CIFAR-10 Batch 3:  Loss: 0.96511  Validation Accuracy: 0.51880\n",
      "Epoch  3, CIFAR-10 Batch 4:  Loss: 1.01780  Validation Accuracy: 0.53700\n",
      "Epoch  3, CIFAR-10 Batch 5:  Loss: 1.07288  Validation Accuracy: 0.54060\n",
      "Epoch  4, CIFAR-10 Batch 1:  Loss: 1.07057  Validation Accuracy: 0.54560\n",
      "Epoch  4, CIFAR-10 Batch 2:  Loss: 1.07218  Validation Accuracy: 0.55100\n",
      "Epoch  4, CIFAR-10 Batch 3:  Loss: 0.79972  Validation Accuracy: 0.52480\n",
      "Epoch  4, CIFAR-10 Batch 4:  Loss: 0.87446  Validation Accuracy: 0.56320\n",
      "Epoch  4, CIFAR-10 Batch 5:  Loss: 0.95506  Validation Accuracy: 0.56440\n",
      "Epoch  5, CIFAR-10 Batch 1:  Loss: 0.96654  Validation Accuracy: 0.57420\n",
      "Epoch  5, CIFAR-10 Batch 2:  Loss: 0.90851  Validation Accuracy: 0.56160\n",
      "Epoch  5, CIFAR-10 Batch 3:  Loss: 0.64565  Validation Accuracy: 0.57420\n",
      "Epoch  5, CIFAR-10 Batch 4:  Loss: 0.77614  Validation Accuracy: 0.57640\n",
      "Epoch  5, CIFAR-10 Batch 5:  Loss: 0.78678  Validation Accuracy: 0.59520\n",
      "Epoch  6, CIFAR-10 Batch 1:  Loss: 0.84405  Validation Accuracy: 0.59160\n",
      "Epoch  6, CIFAR-10 Batch 2:  Loss: 0.74251  Validation Accuracy: 0.58780\n",
      "Epoch  6, CIFAR-10 Batch 3:  Loss: 0.58892  Validation Accuracy: 0.57020\n",
      "Epoch  6, CIFAR-10 Batch 4:  Loss: 0.65396  Validation Accuracy: 0.60400\n",
      "Epoch  6, CIFAR-10 Batch 5:  Loss: 0.69148  Validation Accuracy: 0.60660\n",
      "Epoch  7, CIFAR-10 Batch 1:  Loss: 0.73410  Validation Accuracy: 0.60540\n",
      "Epoch  7, CIFAR-10 Batch 2:  Loss: 0.61653  Validation Accuracy: 0.61080\n",
      "Epoch  7, CIFAR-10 Batch 3:  Loss: 0.50703  Validation Accuracy: 0.60660\n",
      "Epoch  7, CIFAR-10 Batch 4:  Loss: 0.59386  Validation Accuracy: 0.60860\n",
      "Epoch  7, CIFAR-10 Batch 5:  Loss: 0.62965  Validation Accuracy: 0.61580\n",
      "Epoch  8, CIFAR-10 Batch 1:  Loss: 0.63040  Validation Accuracy: 0.62000\n",
      "Epoch  8, CIFAR-10 Batch 2:  Loss: 0.49412  Validation Accuracy: 0.62220\n",
      "Epoch  8, CIFAR-10 Batch 3:  Loss: 0.43183  Validation Accuracy: 0.61020\n",
      "Epoch  8, CIFAR-10 Batch 4:  Loss: 0.54021  Validation Accuracy: 0.60520\n",
      "Epoch  8, CIFAR-10 Batch 5:  Loss: 0.50535  Validation Accuracy: 0.62700\n",
      "Epoch  9, CIFAR-10 Batch 1:  Loss: 0.60686  Validation Accuracy: 0.63600\n",
      "Epoch  9, CIFAR-10 Batch 2:  Loss: 0.43378  Validation Accuracy: 0.61800\n",
      "Epoch  9, CIFAR-10 Batch 3:  Loss: 0.41160  Validation Accuracy: 0.62520\n",
      "Epoch  9, CIFAR-10 Batch 4:  Loss: 0.53046  Validation Accuracy: 0.63600\n",
      "Epoch  9, CIFAR-10 Batch 5:  Loss: 0.42199  Validation Accuracy: 0.65020\n",
      "Epoch 10, CIFAR-10 Batch 1:  Loss: 0.56657  Validation Accuracy: 0.64280\n",
      "Epoch 10, CIFAR-10 Batch 2:  Loss: 0.43190  Validation Accuracy: 0.61100\n",
      "Epoch 10, CIFAR-10 Batch 3:  Loss: 0.36730  Validation Accuracy: 0.64380\n",
      "Epoch 10, CIFAR-10 Batch 4:  Loss: 0.45725  Validation Accuracy: 0.63640\n",
      "Epoch 10, CIFAR-10 Batch 5:  Loss: 0.37416  Validation Accuracy: 0.64340\n",
      "Epoch 11, CIFAR-10 Batch 1:  Loss: 0.51493  Validation Accuracy: 0.64160\n",
      "Epoch 11, CIFAR-10 Batch 2:  Loss: 0.34120  Validation Accuracy: 0.64160\n",
      "Epoch 11, CIFAR-10 Batch 3:  Loss: 0.32584  Validation Accuracy: 0.64240\n",
      "Epoch 11, CIFAR-10 Batch 4:  Loss: 0.39520  Validation Accuracy: 0.65620\n",
      "Epoch 11, CIFAR-10 Batch 5:  Loss: 0.33550  Validation Accuracy: 0.66220\n",
      "Epoch 12, CIFAR-10 Batch 1:  Loss: 0.46485  Validation Accuracy: 0.65160\n",
      "Epoch 12, CIFAR-10 Batch 2:  Loss: 0.28812  Validation Accuracy: 0.65420\n",
      "Epoch 12, CIFAR-10 Batch 3:  Loss: 0.27361  Validation Accuracy: 0.63680\n",
      "Epoch 12, CIFAR-10 Batch 4:  Loss: 0.38162  Validation Accuracy: 0.65800\n",
      "Epoch 12, CIFAR-10 Batch 5:  Loss: 0.30346  Validation Accuracy: 0.66260\n",
      "Epoch 13, CIFAR-10 Batch 1:  Loss: 0.41133  Validation Accuracy: 0.63960\n",
      "Epoch 13, CIFAR-10 Batch 2:  Loss: 0.31351  Validation Accuracy: 0.62620\n",
      "Epoch 13, CIFAR-10 Batch 3:  Loss: 0.23571  Validation Accuracy: 0.66060\n",
      "Epoch 13, CIFAR-10 Batch 4:  Loss: 0.33202  Validation Accuracy: 0.66100\n",
      "Epoch 13, CIFAR-10 Batch 5:  Loss: 0.25950  Validation Accuracy: 0.67280\n",
      "Epoch 14, CIFAR-10 Batch 1:  Loss: 0.39387  Validation Accuracy: 0.65060\n",
      "Epoch 14, CIFAR-10 Batch 2:  Loss: 0.22593  Validation Accuracy: 0.64120\n",
      "Epoch 14, CIFAR-10 Batch 3:  Loss: 0.22200  Validation Accuracy: 0.66140\n",
      "Epoch 14, CIFAR-10 Batch 4:  Loss: 0.34284  Validation Accuracy: 0.67120\n",
      "Epoch 14, CIFAR-10 Batch 5:  Loss: 0.24452  Validation Accuracy: 0.66200\n",
      "Epoch 15, CIFAR-10 Batch 1:  Loss: 0.35341  Validation Accuracy: 0.66440\n",
      "Epoch 15, CIFAR-10 Batch 2:  Loss: 0.23043  Validation Accuracy: 0.64660\n",
      "Epoch 15, CIFAR-10 Batch 3:  Loss: 0.22805  Validation Accuracy: 0.65940\n",
      "Epoch 15, CIFAR-10 Batch 4:  Loss: 0.29529  Validation Accuracy: 0.66940\n",
      "Epoch 15, CIFAR-10 Batch 5:  Loss: 0.22622  Validation Accuracy: 0.65700\n",
      "Epoch 16, CIFAR-10 Batch 1:  Loss: 0.32165  Validation Accuracy: 0.67280\n",
      "Epoch 16, CIFAR-10 Batch 2:  Loss: 0.19322  Validation Accuracy: 0.65340\n",
      "Epoch 16, CIFAR-10 Batch 3:  Loss: 0.22760  Validation Accuracy: 0.66260\n",
      "Epoch 16, CIFAR-10 Batch 4:  Loss: 0.29061  Validation Accuracy: 0.66240\n",
      "Epoch 16, CIFAR-10 Batch 5:  Loss: 0.21467  Validation Accuracy: 0.66820\n",
      "Epoch 17, CIFAR-10 Batch 1:  Loss: 0.31269  Validation Accuracy: 0.66200\n",
      "Epoch 17, CIFAR-10 Batch 2:  Loss: 0.15739  Validation Accuracy: 0.66920\n",
      "Epoch 17, CIFAR-10 Batch 3:  Loss: 0.15988  Validation Accuracy: 0.67580\n",
      "Epoch 17, CIFAR-10 Batch 4:  Loss: 0.24642  Validation Accuracy: 0.66480\n",
      "Epoch 17, CIFAR-10 Batch 5:  Loss: 0.16050  Validation Accuracy: 0.67660\n",
      "Epoch 18, CIFAR-10 Batch 1:  Loss: 0.27846  Validation Accuracy: 0.66960\n",
      "Epoch 18, CIFAR-10 Batch 2:  Loss: 0.15513  Validation Accuracy: 0.67600\n",
      "Epoch 18, CIFAR-10 Batch 3:  Loss: 0.14811  Validation Accuracy: 0.68220\n",
      "Epoch 18, CIFAR-10 Batch 4:  Loss: 0.17928  Validation Accuracy: 0.67900\n",
      "Epoch 18, CIFAR-10 Batch 5:  Loss: 0.17155  Validation Accuracy: 0.67360\n",
      "Epoch 19, CIFAR-10 Batch 1:  Loss: 0.33342  Validation Accuracy: 0.66180\n",
      "Epoch 19, CIFAR-10 Batch 2:  Loss: 0.12526  Validation Accuracy: 0.67280\n",
      "Epoch 19, CIFAR-10 Batch 3:  Loss: 0.12739  Validation Accuracy: 0.67920\n",
      "Epoch 19, CIFAR-10 Batch 4:  Loss: 0.17317  Validation Accuracy: 0.67440\n",
      "Epoch 19, CIFAR-10 Batch 5:  Loss: 0.16353  Validation Accuracy: 0.67160\n",
      "Epoch 20, CIFAR-10 Batch 1:  Loss: 0.22810  Validation Accuracy: 0.67860\n",
      "Epoch 20, CIFAR-10 Batch 2:  Loss: 0.13148  Validation Accuracy: 0.67180\n",
      "Epoch 20, CIFAR-10 Batch 3:  Loss: 0.12126  Validation Accuracy: 0.68280\n",
      "Epoch 20, CIFAR-10 Batch 4:  Loss: 0.18157  Validation Accuracy: 0.67180\n",
      "Epoch 20, CIFAR-10 Batch 5:  Loss: 0.13440  Validation Accuracy: 0.67820\n",
      "Epoch 21, CIFAR-10 Batch 1:  Loss: 0.24084  Validation Accuracy: 0.67820\n",
      "Epoch 21, CIFAR-10 Batch 2:  Loss: 0.12252  Validation Accuracy: 0.68840\n",
      "Epoch 21, CIFAR-10 Batch 3:  Loss: 0.13012  Validation Accuracy: 0.67420\n",
      "Epoch 21, CIFAR-10 Batch 4:  Loss: 0.18273  Validation Accuracy: 0.66240\n",
      "Epoch 21, CIFAR-10 Batch 5:  Loss: 0.12326  Validation Accuracy: 0.66900\n",
      "Epoch 22, CIFAR-10 Batch 1:  Loss: 0.22111  Validation Accuracy: 0.65980\n",
      "Epoch 22, CIFAR-10 Batch 2:  Loss: 0.13979  Validation Accuracy: 0.67560\n",
      "Epoch 22, CIFAR-10 Batch 3:  Loss: 0.11130  Validation Accuracy: 0.67920\n",
      "Epoch 22, CIFAR-10 Batch 4:  Loss: 0.14572  Validation Accuracy: 0.66180\n",
      "Epoch 22, CIFAR-10 Batch 5:  Loss: 0.11037  Validation Accuracy: 0.67720\n",
      "Epoch 23, CIFAR-10 Batch 1:  Loss: 0.22459  Validation Accuracy: 0.66800\n",
      "Epoch 23, CIFAR-10 Batch 2:  Loss: 0.13946  Validation Accuracy: 0.65680\n"
     ]
    },
    {
     "name": "stdout",
     "output_type": "stream",
     "text": [
      "Epoch 23, CIFAR-10 Batch 3:  Loss: 0.10561  Validation Accuracy: 0.67900\n",
      "Epoch 23, CIFAR-10 Batch 4:  Loss: 0.16185  Validation Accuracy: 0.65640\n",
      "Epoch 23, CIFAR-10 Batch 5:  Loss: 0.10066  Validation Accuracy: 0.67780\n",
      "Epoch 24, CIFAR-10 Batch 1:  Loss: 0.16368  Validation Accuracy: 0.68260\n",
      "Epoch 24, CIFAR-10 Batch 2:  Loss: 0.13461  Validation Accuracy: 0.67080\n",
      "Epoch 24, CIFAR-10 Batch 3:  Loss: 0.10109  Validation Accuracy: 0.67700\n",
      "Epoch 24, CIFAR-10 Batch 4:  Loss: 0.18865  Validation Accuracy: 0.67440\n",
      "Epoch 24, CIFAR-10 Batch 5:  Loss: 0.10416  Validation Accuracy: 0.68820\n",
      "Epoch 25, CIFAR-10 Batch 1:  Loss: 0.17682  Validation Accuracy: 0.68080\n",
      "Epoch 25, CIFAR-10 Batch 2:  Loss: 0.09008  Validation Accuracy: 0.68460\n",
      "Epoch 25, CIFAR-10 Batch 3:  Loss: 0.09222  Validation Accuracy: 0.66580\n",
      "Epoch 25, CIFAR-10 Batch 4:  Loss: 0.16578  Validation Accuracy: 0.66860\n",
      "Epoch 25, CIFAR-10 Batch 5:  Loss: 0.08692  Validation Accuracy: 0.68340\n",
      "Epoch 26, CIFAR-10 Batch 1:  Loss: 0.14636  Validation Accuracy: 0.68200\n",
      "Epoch 26, CIFAR-10 Batch 2:  Loss: 0.09696  Validation Accuracy: 0.69440\n",
      "Epoch 26, CIFAR-10 Batch 3:  Loss: 0.08118  Validation Accuracy: 0.67080\n",
      "Epoch 26, CIFAR-10 Batch 4:  Loss: 0.16493  Validation Accuracy: 0.67920\n",
      "Epoch 26, CIFAR-10 Batch 5:  Loss: 0.07737  Validation Accuracy: 0.69020\n",
      "Epoch 27, CIFAR-10 Batch 1:  Loss: 0.13271  Validation Accuracy: 0.68500\n",
      "Epoch 27, CIFAR-10 Batch 2:  Loss: 0.09464  Validation Accuracy: 0.68420\n",
      "Epoch 27, CIFAR-10 Batch 3:  Loss: 0.07771  Validation Accuracy: 0.68200\n",
      "Epoch 27, CIFAR-10 Batch 4:  Loss: 0.14421  Validation Accuracy: 0.67220\n",
      "Epoch 27, CIFAR-10 Batch 5:  Loss: 0.08146  Validation Accuracy: 0.69260\n",
      "Epoch 28, CIFAR-10 Batch 1:  Loss: 0.09952  Validation Accuracy: 0.68400\n",
      "Epoch 28, CIFAR-10 Batch 2:  Loss: 0.09429  Validation Accuracy: 0.69000\n",
      "Epoch 28, CIFAR-10 Batch 3:  Loss: 0.08932  Validation Accuracy: 0.67680\n",
      "Epoch 28, CIFAR-10 Batch 4:  Loss: 0.12163  Validation Accuracy: 0.69280\n",
      "Epoch 28, CIFAR-10 Batch 5:  Loss: 0.06002  Validation Accuracy: 0.68040\n",
      "Epoch 29, CIFAR-10 Batch 1:  Loss: 0.09384  Validation Accuracy: 0.68860\n",
      "Epoch 29, CIFAR-10 Batch 2:  Loss: 0.07167  Validation Accuracy: 0.69380\n",
      "Epoch 29, CIFAR-10 Batch 3:  Loss: 0.09095  Validation Accuracy: 0.65880\n",
      "Epoch 29, CIFAR-10 Batch 4:  Loss: 0.12667  Validation Accuracy: 0.69100\n",
      "Epoch 29, CIFAR-10 Batch 5:  Loss: 0.07993  Validation Accuracy: 0.68020\n",
      "Epoch 30, CIFAR-10 Batch 1:  Loss: 0.10404  Validation Accuracy: 0.68480\n",
      "Epoch 30, CIFAR-10 Batch 2:  Loss: 0.08118  Validation Accuracy: 0.67920\n",
      "Epoch 30, CIFAR-10 Batch 3:  Loss: 0.07102  Validation Accuracy: 0.66780\n",
      "Epoch 30, CIFAR-10 Batch 4:  Loss: 0.12266  Validation Accuracy: 0.68500\n",
      "Epoch 30, CIFAR-10 Batch 5:  Loss: 0.04985  Validation Accuracy: 0.68280\n",
      "Epoch 31, CIFAR-10 Batch 1:  Loss: 0.09610  Validation Accuracy: 0.67360\n",
      "Epoch 31, CIFAR-10 Batch 2:  Loss: 0.08327  Validation Accuracy: 0.67360\n",
      "Epoch 31, CIFAR-10 Batch 3:  Loss: 0.06621  Validation Accuracy: 0.69440\n",
      "Epoch 31, CIFAR-10 Batch 4:  Loss: 0.09483  Validation Accuracy: 0.68980\n",
      "Epoch 31, CIFAR-10 Batch 5:  Loss: 0.06619  Validation Accuracy: 0.68040\n",
      "Epoch 32, CIFAR-10 Batch 1:  Loss: 0.12091  Validation Accuracy: 0.67920\n",
      "Epoch 32, CIFAR-10 Batch 2:  Loss: 0.10714  Validation Accuracy: 0.66720\n",
      "Epoch 32, CIFAR-10 Batch 3:  Loss: 0.06738  Validation Accuracy: 0.68700\n",
      "Epoch 32, CIFAR-10 Batch 4:  Loss: 0.11494  Validation Accuracy: 0.69240\n",
      "Epoch 32, CIFAR-10 Batch 5:  Loss: 0.05181  Validation Accuracy: 0.67920\n",
      "Epoch 33, CIFAR-10 Batch 1:  Loss: 0.10859  Validation Accuracy: 0.69000\n",
      "Epoch 33, CIFAR-10 Batch 2:  Loss: 0.11211  Validation Accuracy: 0.67480\n",
      "Epoch 33, CIFAR-10 Batch 3:  Loss: 0.07552  Validation Accuracy: 0.68420\n",
      "Epoch 33, CIFAR-10 Batch 4:  Loss: 0.10426  Validation Accuracy: 0.68260\n",
      "Epoch 33, CIFAR-10 Batch 5:  Loss: 0.04851  Validation Accuracy: 0.68360\n",
      "Epoch 34, CIFAR-10 Batch 1:  Loss: 0.10407  Validation Accuracy: 0.68300\n",
      "Epoch 34, CIFAR-10 Batch 2:  Loss: 0.07586  Validation Accuracy: 0.67700\n",
      "Epoch 34, CIFAR-10 Batch 3:  Loss: 0.06352  Validation Accuracy: 0.67960\n",
      "Epoch 34, CIFAR-10 Batch 4:  Loss: 0.10282  Validation Accuracy: 0.68720\n",
      "Epoch 34, CIFAR-10 Batch 5:  Loss: 0.03208  Validation Accuracy: 0.69460\n",
      "Epoch 35, CIFAR-10 Batch 1:  Loss: 0.09268  Validation Accuracy: 0.67180\n",
      "Epoch 35, CIFAR-10 Batch 2:  Loss: 0.05900  Validation Accuracy: 0.68180\n",
      "Epoch 35, CIFAR-10 Batch 3:  Loss: 0.06133  Validation Accuracy: 0.68700\n",
      "Epoch 35, CIFAR-10 Batch 4:  Loss: 0.08138  Validation Accuracy: 0.69240\n",
      "Epoch 35, CIFAR-10 Batch 5:  Loss: 0.04712  Validation Accuracy: 0.68300\n",
      "Epoch 36, CIFAR-10 Batch 1:  Loss: 0.08582  Validation Accuracy: 0.67540\n",
      "Epoch 36, CIFAR-10 Batch 2:  Loss: 0.05524  Validation Accuracy: 0.67100\n",
      "Epoch 36, CIFAR-10 Batch 3:  Loss: 0.06625  Validation Accuracy: 0.67740\n",
      "Epoch 36, CIFAR-10 Batch 4:  Loss: 0.10085  Validation Accuracy: 0.67420\n",
      "Epoch 36, CIFAR-10 Batch 5:  Loss: 0.06071  Validation Accuracy: 0.67680\n",
      "Epoch 37, CIFAR-10 Batch 1:  Loss: 0.08169  Validation Accuracy: 0.67400\n",
      "Epoch 37, CIFAR-10 Batch 2:  Loss: 0.06643  Validation Accuracy: 0.67060\n",
      "Epoch 37, CIFAR-10 Batch 3:  Loss: 0.03852  Validation Accuracy: 0.69800\n",
      "Epoch 37, CIFAR-10 Batch 4:  Loss: 0.07380  Validation Accuracy: 0.69500\n",
      "Epoch 37, CIFAR-10 Batch 5:  Loss: 0.03935  Validation Accuracy: 0.68140\n",
      "Epoch 38, CIFAR-10 Batch 1:  Loss: 0.06837  Validation Accuracy: 0.68760\n",
      "Epoch 38, CIFAR-10 Batch 2:  Loss: 0.04958  Validation Accuracy: 0.67300\n",
      "Epoch 38, CIFAR-10 Batch 3:  Loss: 0.03075  Validation Accuracy: 0.69280\n",
      "Epoch 38, CIFAR-10 Batch 4:  Loss: 0.06733  Validation Accuracy: 0.68980\n",
      "Epoch 38, CIFAR-10 Batch 5:  Loss: 0.03452  Validation Accuracy: 0.69360\n",
      "Epoch 39, CIFAR-10 Batch 1:  Loss: 0.04721  Validation Accuracy: 0.69380\n",
      "Epoch 39, CIFAR-10 Batch 2:  Loss: 0.04915  Validation Accuracy: 0.66160\n",
      "Epoch 39, CIFAR-10 Batch 3:  Loss: 0.04396  Validation Accuracy: 0.69400\n",
      "Epoch 39, CIFAR-10 Batch 4:  Loss: 0.06417  Validation Accuracy: 0.68220\n",
      "Epoch 39, CIFAR-10 Batch 5:  Loss: 0.03583  Validation Accuracy: 0.68360\n",
      "Epoch 40, CIFAR-10 Batch 1:  Loss: 0.06868  Validation Accuracy: 0.68640\n",
      "Epoch 40, CIFAR-10 Batch 2:  Loss: 0.04294  Validation Accuracy: 0.64980\n",
      "Epoch 40, CIFAR-10 Batch 3:  Loss: 0.03343  Validation Accuracy: 0.69860\n",
      "Epoch 40, CIFAR-10 Batch 4:  Loss: 0.06676  Validation Accuracy: 0.68740\n",
      "Epoch 40, CIFAR-10 Batch 5:  Loss: 0.03867  Validation Accuracy: 0.68120\n",
      "Epoch 41, CIFAR-10 Batch 1:  Loss: 0.06666  Validation Accuracy: 0.68360\n",
      "Epoch 41, CIFAR-10 Batch 2:  Loss: 0.04482  Validation Accuracy: 0.67100\n",
      "Epoch 41, CIFAR-10 Batch 3:  Loss: 0.04483  Validation Accuracy: 0.69700\n",
      "Epoch 41, CIFAR-10 Batch 4:  Loss: 0.05719  Validation Accuracy: 0.69400\n",
      "Epoch 41, CIFAR-10 Batch 5:  Loss: 0.03765  Validation Accuracy: 0.67960\n",
      "Epoch 42, CIFAR-10 Batch 1:  Loss: 0.04614  Validation Accuracy: 0.69040\n",
      "Epoch 42, CIFAR-10 Batch 2:  Loss: 0.04207  Validation Accuracy: 0.65040\n",
      "Epoch 42, CIFAR-10 Batch 3:  Loss: 0.03205  Validation Accuracy: 0.69080\n",
      "Epoch 42, CIFAR-10 Batch 4:  Loss: 0.06105  Validation Accuracy: 0.68820\n",
      "Epoch 42, CIFAR-10 Batch 5:  Loss: 0.03008  Validation Accuracy: 0.68860\n",
      "Epoch 43, CIFAR-10 Batch 1:  Loss: 0.04811  Validation Accuracy: 0.69620\n",
      "Epoch 43, CIFAR-10 Batch 2:  Loss: 0.05989  Validation Accuracy: 0.65500\n",
      "Epoch 43, CIFAR-10 Batch 3:  Loss: 0.04732  Validation Accuracy: 0.68660\n",
      "Epoch 43, CIFAR-10 Batch 4:  Loss: 0.05168  Validation Accuracy: 0.68580\n",
      "Epoch 43, CIFAR-10 Batch 5:  Loss: 0.03753  Validation Accuracy: 0.68980\n",
      "Epoch 44, CIFAR-10 Batch 1:  Loss: 0.04759  Validation Accuracy: 0.69080\n",
      "Epoch 44, CIFAR-10 Batch 2:  Loss: 0.06808  Validation Accuracy: 0.64900\n",
      "Epoch 44, CIFAR-10 Batch 3:  Loss: 0.03807  Validation Accuracy: 0.68460\n",
      "Epoch 44, CIFAR-10 Batch 4:  Loss: 0.05327  Validation Accuracy: 0.68580\n",
      "Epoch 44, CIFAR-10 Batch 5:  Loss: 0.02066  Validation Accuracy: 0.69340\n",
      "Epoch 45, CIFAR-10 Batch 1:  Loss: 0.06247  Validation Accuracy: 0.68280\n",
      "Epoch 45, CIFAR-10 Batch 2:  Loss: 0.05048  Validation Accuracy: 0.66860\n",
      "Epoch 45, CIFAR-10 Batch 3:  Loss: 0.03268  Validation Accuracy: 0.68540\n",
      "Epoch 45, CIFAR-10 Batch 4:  Loss: 0.04504  Validation Accuracy: 0.68100\n"
     ]
    },
    {
     "name": "stdout",
     "output_type": "stream",
     "text": [
      "Epoch 45, CIFAR-10 Batch 5:  Loss: 0.02944  Validation Accuracy: 0.68860\n",
      "Epoch 46, CIFAR-10 Batch 1:  Loss: 0.03862  Validation Accuracy: 0.69080\n",
      "Epoch 46, CIFAR-10 Batch 2:  Loss: 0.04821  Validation Accuracy: 0.67100\n",
      "Epoch 46, CIFAR-10 Batch 3:  Loss: 0.03045  Validation Accuracy: 0.69580\n",
      "Epoch 46, CIFAR-10 Batch 4:  Loss: 0.04081  Validation Accuracy: 0.67340\n",
      "Epoch 46, CIFAR-10 Batch 5:  Loss: 0.02408  Validation Accuracy: 0.68400\n",
      "Epoch 47, CIFAR-10 Batch 1:  Loss: 0.04211  Validation Accuracy: 0.67660\n",
      "Epoch 47, CIFAR-10 Batch 2:  Loss: 0.05576  Validation Accuracy: 0.68360\n",
      "Epoch 47, CIFAR-10 Batch 3:  Loss: 0.03086  Validation Accuracy: 0.69260\n",
      "Epoch 47, CIFAR-10 Batch 4:  Loss: 0.05204  Validation Accuracy: 0.64800\n",
      "Epoch 47, CIFAR-10 Batch 5:  Loss: 0.02369  Validation Accuracy: 0.68080\n",
      "Epoch 48, CIFAR-10 Batch 1:  Loss: 0.02599  Validation Accuracy: 0.69460\n",
      "Epoch 48, CIFAR-10 Batch 2:  Loss: 0.03737  Validation Accuracy: 0.68800\n",
      "Epoch 48, CIFAR-10 Batch 3:  Loss: 0.02546  Validation Accuracy: 0.69040\n",
      "Epoch 48, CIFAR-10 Batch 4:  Loss: 0.04182  Validation Accuracy: 0.67840\n",
      "Epoch 48, CIFAR-10 Batch 5:  Loss: 0.03111  Validation Accuracy: 0.67860\n",
      "Epoch 49, CIFAR-10 Batch 1:  Loss: 0.03264  Validation Accuracy: 0.68760\n",
      "Epoch 49, CIFAR-10 Batch 2:  Loss: 0.03034  Validation Accuracy: 0.68420\n",
      "Epoch 49, CIFAR-10 Batch 3:  Loss: 0.01853  Validation Accuracy: 0.68960\n",
      "Epoch 49, CIFAR-10 Batch 4:  Loss: 0.04274  Validation Accuracy: 0.68160\n",
      "Epoch 49, CIFAR-10 Batch 5:  Loss: 0.02552  Validation Accuracy: 0.68840\n",
      "Epoch 50, CIFAR-10 Batch 1:  Loss: 0.02955  Validation Accuracy: 0.68800\n",
      "Epoch 50, CIFAR-10 Batch 2:  Loss: 0.02779  Validation Accuracy: 0.68440\n",
      "Epoch 50, CIFAR-10 Batch 3:  Loss: 0.02021  Validation Accuracy: 0.69300\n",
      "Epoch 50, CIFAR-10 Batch 4:  Loss: 0.03896  Validation Accuracy: 0.68280\n",
      "Epoch 50, CIFAR-10 Batch 5:  Loss: 0.02809  Validation Accuracy: 0.67580\n"
     ]
    }
   ],
   "source": [
    "\"\"\"\n",
    "DON'T MODIFY ANYTHING IN THIS CELL\n",
    "\"\"\"\n",
    "save_model_path = './image_classification'\n",
    "\n",
    "print('Training...')\n",
    "with tf.Session() as sess:\n",
    "    # Initializing the variables\n",
    "    sess.run(tf.global_variables_initializer())\n",
    "    \n",
    "    # Training cycle\n",
    "    for epoch in range(epochs):\n",
    "        # Loop over all batches\n",
    "        n_batches = 5\n",
    "        for batch_i in range(1, n_batches + 1):\n",
    "            for batch_features, batch_labels in helper.load_preprocess_training_batch(batch_i, batch_size):\n",
    "                train_neural_network(sess, optimizer, keep_probability, batch_features, batch_labels)\n",
    "            print('Epoch {:>2}, CIFAR-10 Batch {}:  '.format(epoch + 1, batch_i), end='')\n",
    "            print_stats(sess, batch_features, batch_labels, cost, accuracy)\n",
    "            \n",
    "    # Save Model\n",
    "    saver = tf.train.Saver()\n",
    "    save_path = saver.save(sess, save_model_path)"
   ]
  },
  {
   "cell_type": "markdown",
   "metadata": {},
   "source": [
    "# Checkpoint\n",
    "The model has been saved to disk.\n",
    "## Test Model\n",
    "Test your model against the test dataset.  This will be your final accuracy. You should have an accuracy greater than 50%. If you don't, keep tweaking the model architecture and parameters."
   ]
  },
  {
   "cell_type": "code",
   "execution_count": 18,
   "metadata": {},
   "outputs": [
    {
     "name": "stdout",
     "output_type": "stream",
     "text": [
      "INFO:tensorflow:Restoring parameters from ./image_classification\n",
      "Testing Accuracy: 0.66708984375\n",
      "\n"
     ]
    },
    {
     "data": {
      "image/png": "[encoded data removed]",
      "text/plain": [
       "<matplotlib.figure.Figure at 0x11b8a64a8>"
      ]
     },
     "metadata": {
      "image/png": {
       "height": 319,
       "width": 355
      }
     },
     "output_type": "display_data"
    }
   ],
   "source": [
    "\"\"\"\n",
    "DON'T MODIFY ANYTHING IN THIS CELL\n",
    "\"\"\"\n",
    "%matplotlib inline\n",
    "%config InlineBackend.figure_format = 'retina'\n",
    "\n",
    "import tensorflow as tf\n",
    "import pickle\n",
    "import helper\n",
    "import random\n",
    "\n",
    "# Set batch size if not already set\n",
    "try:\n",
    "    if batch_size:\n",
    "        pass\n",
    "except NameError:\n",
    "    batch_size = 64\n",
    "\n",
    "save_model_path = './image_classification'\n",
    "n_samples = 4\n",
    "top_n_predictions = 3\n",
    "\n",
    "def test_model():\n",
    "    \"\"\"\n",
    "    Test the saved model against the test dataset\n",
    "    \"\"\"\n",
    "\n",
    "    test_features, test_labels = pickle.load(open('preprocess_test.p', mode='rb'))\n",
    "    loaded_graph = tf.Graph()\n",
    "\n",
    "    with tf.Session(graph=loaded_graph) as sess:\n",
    "        # Load model\n",
    "        loader = tf.train.import_meta_graph(save_model_path + '.meta')\n",
    "        loader.restore(sess, save_model_path)\n",
    "\n",
    "        # Get Tensors from loaded model\n",
    "        loaded_x = loaded_graph.get_tensor_by_name('x:0')\n",
    "        loaded_y = loaded_graph.get_tensor_by_name('y:0')\n",
    "        loaded_keep_prob = loaded_graph.get_tensor_by_name('keep_prob:0')\n",
    "        loaded_logits = loaded_graph.get_tensor_by_name('logits:0')\n",
    "        loaded_acc = loaded_graph.get_tensor_by_name('accuracy:0')\n",
    "        \n",
    "        # Get accuracy in batches for memory limitations\n",
    "        test_batch_acc_total = 0\n",
    "        test_batch_count = 0\n",
    "        \n",
    "        for test_feature_batch, test_label_batch in helper.batch_features_labels(test_features, test_labels, batch_size):\n",
    "            test_batch_acc_total += sess.run(\n",
    "                loaded_acc,\n",
    "                feed_dict={loaded_x: test_feature_batch, loaded_y: test_label_batch, loaded_keep_prob: 1.0})\n",
    "            test_batch_count += 1\n",
    "\n",
    "        print('Testing Accuracy: {}\\n'.format(test_batch_acc_total/test_batch_count))\n",
    "\n",
    "        # Print Random Samples\n",
    "        random_test_features, random_test_labels = tuple(zip(*random.sample(list(zip(test_features, test_labels)), n_samples)))\n",
    "        random_test_predictions = sess.run(\n",
    "            tf.nn.top_k(tf.nn.softmax(loaded_logits), top_n_predictions),\n",
    "            feed_dict={loaded_x: random_test_features, loaded_y: random_test_labels, loaded_keep_prob: 1.0})\n",
    "        helper.display_image_predictions(random_test_features, random_test_labels, random_test_predictions)\n",
    "\n",
    "\n",
    "test_model()"
   ]
  },
  {
   "cell_type": "markdown",
   "metadata": {},
   "source": [
    "## Why 50-80% Accuracy?\n",
    "You might be wondering why you can't get an accuracy any higher. First things first, 50% isn't bad for a simple CNN.  Pure guessing would get you 10% accuracy. However, you might notice people are getting scores [well above 80%](http://rodrigob.github.io/are_we_there_yet/build/classification_datasets_results.html#43494641522d3130).  That's because we haven't taught you all there is to know about neural networks. We still need to cover a few more techniques.\n",
    "## Submitting This Project\n",
    "When submitting this project, make sure to run all the cells before saving the notebook.  Save the notebook file as \"dlnd_image_classification.ipynb\" and save it as a HTML file under \"File\" -> \"Download as\".  Include the \"helper.py\" and \"problem_unittests.py\" files in your submission."
   ]
  },
  {
   "cell_type": "code",
   "execution_count": null,
   "metadata": {
    "collapsed": true
   },
   "outputs": [],
   "source": []
  }
 ],
 "metadata": {
  "kernelspec": {
   "display_name": "Python 3",
   "language": "python",
   "name": "python3"
  },
  "language_info": {
   "codemirror_mode": {
    "name": "ipython",
    "version": 3
   },
   "file_extension": ".py",
   "mimetype": "text/x-python",
   "name": "python",
   "nbconvert_exporter": "python",
   "pygments_lexer": "ipython3",
   "version": "3.5.3"
  }
 },
 "nbformat": 4,
 "nbformat_minor": 1
}
